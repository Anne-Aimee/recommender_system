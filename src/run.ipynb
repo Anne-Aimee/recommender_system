{
 "cells": [
  {
   "cell_type": "code",
   "execution_count": 1,
   "metadata": {},
   "outputs": [
    {
     "name": "stdout",
     "output_type": "stream",
     "text": [
      "number of items: 1000, number of users: 10000\n"
     ]
    },
    {
     "data": {
      "image/png": "[encoded data removed]",
      "text/plain": [
       "<Figure size 432x288 with 2 Axes>"
      ]
     },
     "metadata": {
      "needs_background": "light"
     },
     "output_type": "display_data"
    },
    {
     "name": "stdout",
     "output_type": "stream",
     "text": [
      "Total number of nonzero elements in origial data:1176952\n",
      "Total number of nonzero elements in train data:1118030\n",
      "Total number of nonzero elements in test data:58843\n",
      "learn the matrix factorization using SGD...\n",
      "initial RMSE on training set: 0.9895694584839616, RMSE on testing set: 0.998228148543449.\n",
      "iter: 0, RMSE on training set: 0.9895457241206587, RMSE on testing set: 0.9982242172888628.\n",
      "iter: 1, RMSE on training set: 0.9893578129485321, RMSE on testing set: 0.9981272435144094.\n",
      "iter: 2, RMSE on training set: 0.9865151281388959, RMSE on testing set: 0.996383264848185.\n",
      "iter: 3, RMSE on training set: 0.9767397131271173, RMSE on testing set: 0.9909515913206348.\n",
      "iter: 4, RMSE on training set: 0.9678361397149792, RMSE on testing set: 0.9871523411001445.\n",
      "iter: 5, RMSE on training set: 0.9592176396713107, RMSE on testing set: 0.9843514574994547.\n",
      "iter: 6, RMSE on training set: 0.9496826180165784, RMSE on testing set: 0.982127201066167.\n",
      "iter: 7, RMSE on training set: 0.9394993170578579, RMSE on testing set: 0.9803121131133532.\n",
      "iter: 8, RMSE on training set: 0.928971706064243, RMSE on testing set: 0.9790425492905679.\n",
      "iter: 9, RMSE on training set: 0.9183785039121611, RMSE on testing set: 0.9783912247308203.\n",
      "iter: 10, RMSE on training set: 0.9079960286951548, RMSE on testing set: 0.9779367860158837.\n",
      "iter: 11, RMSE on training set: 0.8981957130942831, RMSE on testing set: 0.9777649688872943.\n",
      "iter: 12, RMSE on training set: 0.8891866726753186, RMSE on testing set: 0.977795496447802.\n",
      "iter: 13, RMSE on training set: 0.8810530977240976, RMSE on testing set: 0.977943002067646.\n",
      "iter: 14, RMSE on training set: 0.8738345811325731, RMSE on testing set: 0.9782004362181914.\n",
      "iter: 15, RMSE on training set: 0.8675114072308637, RMSE on testing set: 0.9784943908567204.\n",
      "iter: 16, RMSE on training set: 0.8619657152510722, RMSE on testing set: 0.9787284187784239.\n",
      "iter: 17, RMSE on training set: 0.8571434967737753, RMSE on testing set: 0.9789941220405425.\n",
      "iter: 18, RMSE on training set: 0.8529773554102378, RMSE on testing set: 0.979254039076565.\n",
      "iter: 19, RMSE on training set: 0.8493733695543451, RMSE on testing set: 0.9794790465468676.\n",
      "RMSE on test data: 0.9777649688872943.\n"
     ]
    },
    {
     "data": {
      "text/plain": [
       "0.9777649688872943"
      ]
     },
     "execution_count": 1,
     "metadata": {},
     "output_type": "execute_result"
    }
   ],
   "source": [
    "%matplotlib inline\n",
    "import numpy as np\n",
    "import matplotlib as mpl\n",
    "import matplotlib.pyplot as plt\n",
    "import scipy\n",
    "import scipy.io\n",
    "import scipy.sparse as sp\n",
    "\n",
    "from scipy import stats # to fit linear regression\n",
    "from math import sqrt\n",
    "\n",
    "%load_ext autoreload\n",
    "%autoreload 2\n",
    "import sys\n",
    "sys.path.insert(1, '../utilities/')\n",
    "from helpers import *\n",
    "from plots import *\n",
    "from implementations import *\n",
    "from baselines import *\n",
    "\n",
    "#load data\n",
    "DATA_TRAIN_PATH = '../Datasets/data_train.csv'\n",
    "ratings = load_data(DATA_TRAIN_PATH)\n",
    "num_items_per_user, num_users_per_item = plot_raw_data(ratings)\n",
    "\n",
    "seed=1000\n",
    "#split test train\n",
    "valid_ratings, train, test = split_data(\n",
    "    ratings, num_items_per_user, num_users_per_item, 10, 0.05,seed)\n",
    "#baseline\n",
    "rmse_te, w_item, w_user, w_0 = baseline_item_user(train, test)\n",
    "\n",
    "#calculate predictions baseline\n",
    "pred_train = w_item[train.row] + w_user[train.col] + w_0\n",
    "pred_test = w_item[test.row] + w_user[test.col] + w_0\n",
    "#substraction of baseline\n",
    "train_baseline_corrected = sp.coo_matrix((train.data - pred_train, (train.row, train.col)),\n",
    "                                         shape=train.get_shape())\n",
    "test_baseline_corrected = sp.coo_matrix((test.data - pred_test, (test.row, test.col)), shape=test.get_shape())\n",
    "\n",
    "#parameters definition for SGD\n",
    "num_features_linear = 96   # K in the lecture notes\n",
    "lambda_user_linear = 0.1698534010446083\n",
    "lambda_item_linear = 0.020631232619235364\n",
    "num_epochs_linear = 20\n",
    "gamma_linear = 0.05561936186938201\n",
    "decrement_step_linear = 1.1563058680288183\n",
    "stop_criterion = 0\n",
    "\n",
    "#SGD \n",
    "min_rmse_te_SGD_bc, user_features_SGD_bc, item_features_SGD_bc = \\\n",
    "    matrix_factorization_SGD_regularized_predict(train_baseline_corrected,\n",
    "                                                 test_baseline_corrected, num_features_linear,\n",
    "                                                 lambda_user_linear, lambda_item_linear,\n",
    "                                                 gamma_linear, decrement_step_linear,\n",
    "                                                 num_epochs_linear, seed, stop_criterion,True)\n",
    "#shows error\n",
    "compute_error(test_baseline_corrected.data, user_features_SGD_bc, item_features_SGD_bc, \n",
    "              (test_baseline_corrected.row,test_baseline_corrected.col))"
   ]
  },
  {
   "cell_type": "code",
   "execution_count": 2,
   "metadata": {},
   "outputs": [
    {
     "name": "stdout",
     "output_type": "stream",
     "text": [
      "number of items: 1000, number of users: 10000\n"
     ]
    }
   ],
   "source": [
    "#prediction\n",
    "prediction = compute_prediction_baseline_linear(ratings, valid_ratings.shape, \n",
    "                                                                  item_features_SGD_bc,\n",
    "                                                                  user_features_SGD_bc, num_items_per_user,\n",
    "                                                                  num_users_per_item, 10,w_item, w_user, w_0\n",
    "                                                                  )\n",
    "#discretization\n",
    "prediction_discretized = np.rint(prediction)\n",
    "#read positions to submit\n",
    "DATA_SAMPLE_SUBMISSION_PATH = '../Datasets/sample_submission.csv'\n",
    "ratings_submission_csv = load_data(DATA_SAMPLE_SUBMISSION_PATH)\n",
    "rows_submission,cols_submission = ratings_submission_csv.tocoo().nonzero()\n",
    "ids_test = ['r' + str(ind_col+1) + '_c' + str(ind_row+1) for ind_row, ind_col in zip(rows_submission,cols_submission)]\n",
    "#output\n",
    "OUTPUT_PATH = '../Datasets/final_submission.csv'\n",
    "pred_submission = prediction_discretized[rows_submission,cols_submission].astype('int')\n",
    "create_csv_submission(ids_test, pred_submission, OUTPUT_PATH)\n"
   ]
  },
  {
   "cell_type": "code",
   "execution_count": null,
   "metadata": {},
   "outputs": [],
   "source": []
  },
  {
   "cell_type": "code",
   "execution_count": null,
   "metadata": {},
   "outputs": [],
   "source": []
  }
 ],
 "metadata": {
  "kernelspec": {
   "display_name": "Python 3",
   "language": "python",
   "name": "python3"
  },
  "language_info": {
   "codemirror_mode": {
    "name": "ipython",
    "version": 3
   },
   "file_extension": ".py",
   "mimetype": "text/x-python",
   "name": "python",
   "nbconvert_exporter": "python",
   "pygments_lexer": "ipython3",
   "version": "3.7.1"
  }
 },
 "nbformat": 4,
 "nbformat_minor": 2
}
