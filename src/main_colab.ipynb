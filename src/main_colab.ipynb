{
  "nbformat": 4,
  "nbformat_minor": 0,
  "metadata": {
    "kernelspec": {
      "display_name": "Python 3",
      "language": "python",
      "name": "python3"
    },
    "language_info": {
      "codemirror_mode": {
        "name": "ipython",
        "version": 3
      },
      "file_extension": ".py",
      "mimetype": "text/x-python",
      "name": "python",
      "nbconvert_exporter": "python",
      "pygments_lexer": "ipython3",
      "version": "3.7.1"
    },
    "colab": {
      "name": "test.ipynb",
      "provenance": []
    }
  },
  "cells": [
    {
      "cell_type": "code",
      "metadata": {
        "id": "n2sEKhjFbSYJ",
        "colab_type": "code",
        "colab": {}
      },
      "source": [
        "# Useful starting lines\n",
        "%matplotlib inline\n",
        "import numpy as np\n",
        "import matplotlib.pyplot as plt\n",
        "import torch\n",
        "import torch.nn as nn\n",
        "from torch.autograd import Variable\n",
        "\n",
        "import matplotlib as mpl\n",
        "import scipy\n",
        "import scipy.io\n",
        "import scipy.sparse as sp\n",
        "from scipy.sparse.linalg import spsolve\n",
        "\n",
        "from scipy import stats # to fit linear regression\n",
        "from math import sqrt\n",
        "\n",
        "%load_ext autoreload\n",
        "%autoreload 2"
      ],
      "execution_count": 0,
      "outputs": []
    },
    {
      "cell_type": "code",
      "metadata": {
        "id": "SM2ry60KrvBZ",
        "colab_type": "code",
        "colab": {}
      },
      "source": [
        "\"\"\" The url must be set each time the data gets loaded from the data_train.csv file:\n",
        "      Step 1 : Go to the github repository and click on the file (https://github.com/Anne-Aimee/recommender_system/blob/master/Datasets/data_train.csv)\n",
        "      Step 2 : Click 'View Raw' and copy the url into the designated space below\n",
        "\"\"\"\n",
        "url = 'https://raw.githubusercontent.com/Anne-Aimee/recommender_system/master/Datasets/data_train.csv?token=ALBZK5HA42QTWNLFAFHISVK556QQQ'\n"
      ],
      "execution_count": 0,
      "outputs": []
    },
    {
      "cell_type": "code",
      "metadata": {
        "id": "IkoUwVp_t_QA",
        "colab_type": "code",
        "colab": {
          "base_uri": "https://localhost:8080/",
          "height": 34
        },
        "outputId": "e533cb18-2f1f-45c6-9e25-1e9ce32a1660"
      },
      "source": [
        "# Load the ratings and convert it to a sparse matrix in coo format\n",
        "import pandas as pd\n",
        "df = pd.read_csv(url)\n",
        "df['r'],df['c'] = df['Id'].str.split('_').str # Separate Id into r and c\n",
        "df['r'] = df['r'].str.lstrip('r')\n",
        "df['c'] = df['c'].str.lstrip('c')\n",
        "row = df['c'].to_numpy().astype(int)\n",
        "col = df['r'].to_numpy().astype(int)\n",
        "data = df['Prediction'].to_numpy().astype(int)\n",
        "ratings = sp.coo_matrix((data, (row-1, col-1)), shape=((row.max(), col.max())))\n",
        "print(\"number of items : {}, number of ratings : {}\".format(ratings.shape[0],ratings.shape[1]))"
      ],
      "execution_count": 12,
      "outputs": [
        {
          "output_type": "stream",
          "text": [
            "number of items : 1000, number of ratings : 10000\n"
          ],
          "name": "stdout"
        }
      ]
    },
    {
      "cell_type": "code",
      "metadata": {
        "id": "e_12kDl2FFc3",
        "colab_type": "code",
        "colab": {}
      },
      "source": [
        "def plot_raw_data(ratings):\n",
        "    \"\"\"plot the statistics result on raw rating data.\"\"\"\n",
        "    # do statistics.\n",
        "    num_items_per_user = np.array((ratings != 0).sum(axis=0)).flatten()\n",
        "    num_users_per_item = np.array((ratings != 0).sum(axis=1).T).flatten()\n",
        "    sorted_num_movies_per_user = np.sort(num_items_per_user)[::-1]\n",
        "    sorted_num_users_per_movie = np.sort(num_users_per_item)[::-1]\n",
        "\n",
        "    # plot\n",
        "    fig = plt.figure()\n",
        "    ax1 = fig.add_subplot(1, 2, 1)\n",
        "    ax1.plot(sorted_num_movies_per_user, color='blue')\n",
        "    ax1.set_xlabel(\"users\")\n",
        "    ax1.set_ylabel(\"number of ratings (sorted)\")\n",
        "    ax1.grid()\n",
        "\n",
        "    ax2 = fig.add_subplot(1, 2, 2)\n",
        "    ax2.plot(sorted_num_users_per_movie)\n",
        "    ax2.set_xlabel(\"items\")\n",
        "    ax2.set_ylabel(\"number of ratings (sorted)\")\n",
        "    ax2.set_xticks(np.arange(0, 2000, 300))\n",
        "    ax2.grid()\n",
        "\n",
        "    plt.tight_layout()\n",
        "    plt.savefig(\"stat_ratings\")\n",
        "    plt.show()\n",
        "    # plt.close()\n",
        "    return num_items_per_user, num_users_per_item"
      ],
      "execution_count": 0,
      "outputs": []
    },
    {
      "cell_type": "code",
      "metadata": {
        "id": "z-I4UYdRFKDY",
        "colab_type": "code",
        "colab": {
          "base_uri": "https://localhost:8080/",
          "height": 314
        },
        "outputId": "95730e7e-96dc-47ba-8144-479e6f902f23"
      },
      "source": [
        "num_items_per_user, num_users_per_item = plot_raw_data(ratings)\n",
        "\n",
        "print(\"min # of items per user = {}, min # of users per item = {}.\".format(\n",
        "        min(num_items_per_user), min(num_users_per_item)))"
      ],
      "execution_count": 14,
      "outputs": [
        {
          "output_type": "display_data",
          "data": {
            "image/png": "[encoded data removed]",
            "text/plain": [
              "<Figure size 432x288 with 2 Axes>"
            ]
          },
          "metadata": {
            "tags": []
          }
        },
        {
          "output_type": "stream",
          "text": [
            "min # of items per user = 3, min # of users per item = 8.\n"
          ],
          "name": "stdout"
        }
      ]
    },
    {
      "cell_type": "code",
      "metadata": {
        "id": "RIZYD3lhFPyO",
        "colab_type": "code",
        "colab": {}
      },
      "source": [
        "def split_data(ratings, num_items_per_user, num_users_per_item,\n",
        "               min_num_ratings, p_test=0.1):\n",
        "    \"\"\"split the ratings to training data and test data.\n",
        "    Args:\n",
        "        min_num_ratings: \n",
        "            all users and items we keep must have at least min_num_ratings per user and per item. \n",
        "    \"\"\"\n",
        "    # set seed\n",
        "    np.random.seed(988)\n",
        "    \n",
        "    # select user and item based on the condition.\n",
        "    valid_users = np.where(num_items_per_user >= min_num_ratings)[0]\n",
        "    valid_items = np.where(num_users_per_item >= min_num_ratings)[0]\n",
        "    valid_ratings = ratings[valid_items, :][: , valid_users]  \n",
        "    \n",
        "    # split the data and return train and test data.\n",
        "    # we only consider users and movies that have more than 10 ratings\n",
        "\n",
        "    ind_test = np.random.choice(valid_ratings.nnz, int(valid_ratings.nnz*p_test), replace=False)\n",
        "    ind_train = np.delete(np.arange(valid_ratings.nnz),ind_test)\n",
        "    \n",
        "    valid_ratings_coo = valid_ratings.tocoo()\n",
        "    data = valid_ratings_coo.data\n",
        "    row = valid_ratings_coo.row\n",
        "    col = valid_ratings_coo.col\n",
        "    \n",
        "    test = sp.coo_matrix((data[ind_test], (row[ind_test], col[ind_test])), shape=valid_ratings.get_shape())\n",
        "    train = sp.coo_matrix((data[ind_train], (row[ind_train], col[ind_train])), shape=valid_ratings.get_shape()) \n",
        "    \n",
        "    print(\"Total number of nonzero elements in origial data:{v}\".format(v=ratings.nnz))\n",
        "    print(\"Total number of nonzero elements in train data:{v}\".format(v=train.nnz))\n",
        "    print(\"Total number of nonzero elements in test data:{v}\".format(v=test.nnz))\n",
        "    return valid_ratings, train, test"
      ],
      "execution_count": 0,
      "outputs": []
    },
    {
      "cell_type": "code",
      "metadata": {
        "id": "4Y3aeR_oFdL7",
        "colab_type": "code",
        "colab": {
          "base_uri": "https://localhost:8080/",
          "height": 68
        },
        "outputId": "8c5191e8-7f40-4b46-8d85-d9e667c228cd"
      },
      "source": [
        "valid_ratings, train, test = split_data(\n",
        "    ratings.tolil(), num_items_per_user, num_users_per_item, min_num_ratings=10, p_test=0.1)\n",
        "#plot_train_test_data(train, test)"
      ],
      "execution_count": 44,
      "outputs": [
        {
          "output_type": "stream",
          "text": [
            "Total number of nonzero elements in origial data:1176952\n",
            "Total number of nonzero elements in train data:1059186\n",
            "Total number of nonzero elements in test data:117687\n"
          ],
          "name": "stdout"
        }
      ]
    },
    {
      "cell_type": "code",
      "metadata": {
        "id": "Gr5qJ14xGbbB",
        "colab_type": "code",
        "colab": {
          "base_uri": "https://localhost:8080/",
          "height": 51
        },
        "outputId": "24c0a4d5-b99a-426b-882d-5cdd82db64c7"
      },
      "source": [
        "class MyLinearRegression:\n",
        "    def __init__(self, number_features):\n",
        "        # TODO: Define the parameters of the model (weights and biases)\n",
        "\n",
        "        self.user_features = Variable(torch.rand(number_features, train.shape[1]), requires_grad=True)\n",
        "        self.item_features = Variable(torch.rand(number_features, train.shape[0]), requires_grad=True)\n",
        "    \n",
        "    def forward(self, d, n):\n",
        "        # TODO: implement forward computation - compute predictions based on the inputs\n",
        "        #return torch.mm( torch.transpose(self.item_features), self.user_features )\n",
        "        #return torch.matmul(torch.t(self.user_features[:,n]), self.item_features[:,d])\n",
        "        return torch.sum(self.user_features[:,n]*self.item_features[:,d], dim=0)\n",
        "    \n",
        "    def parameters(self):\n",
        "        # TODO: this function should return a list of parameters of the model\n",
        "        return self.user_features, self.item_features\n",
        "    \n",
        "    def __call__(self, d, n):\n",
        "        # Convenience function\n",
        "        return self.forward(d, n)\n",
        "    \n",
        "\n",
        "def mselossfunc(pred, ratings):\n",
        "    # TODO: implement the MSE loss function\n",
        "    return (pred - ratings).pow(2).mean()\n",
        "\n",
        "model = MyLinearRegression(20)\n",
        "numpy_ns = np.asarray([0, 1, 2], dtype = np.int64)\n",
        "numpy_ds = np.asarray([0, 1, 2], dtype = np.int64)\n",
        "torch_ns = Variable(torch.from_numpy(numpy_ns))\n",
        "torch_ds = Variable(torch.from_numpy(numpy_ds))\n",
        "torch_os = model(torch_ns, torch_ds)\n",
        "print(\"Testing model: an input of %s gives a prediction:\\n %s\" % (numpy_ns, torch_os))"
      ],
      "execution_count": 45,
      "outputs": [
        {
          "output_type": "stream",
          "text": [
            "Testing model: an input of [0 1 2] gives a prediction:\n",
            " tensor([5.3790, 5.3678, 4.0027], grad_fn=<SumBackward1>)\n"
          ],
          "name": "stdout"
        }
      ]
    },
    {
      "cell_type": "code",
      "metadata": {
        "id": "tU0ilPbXTmrd",
        "colab_type": "code",
        "colab": {}
      },
      "source": [
        "def train_SGD(row, col, ratings, model, lossfunc, optimizer, num_epoch):\n",
        "\n",
        "    for epoch in range(num_epoch):\n",
        "        # TODO: Step 1 - create torch variables corresponding to features and labels\n",
        "        row_torch = Variable(torch.from_numpy(row))\n",
        "        col_torch = Variable(torch.from_numpy(col))\n",
        "\n",
        "        targets = Variable(torch.from_numpy(ratings))\n",
        "\n",
        "        # TODO: Step 2 - compute model predictions and loss\n",
        "        outputs = model(row_torch, col_torch)\n",
        "        loss = lossfunc(outputs, targets)\n",
        "        \n",
        "        # TODO: Step 3 - do a backward pass and a gradient update step\n",
        "        optimizer.zero_grad()  \n",
        "        loss.backward()\n",
        "        optimizer.step()\n",
        "        \n",
        "        if epoch % 10 == 0:\n",
        "            print ('Epoch [%d/%d], Loss: %.4f' \n",
        "                   %(epoch+1, num_epoch, loss.item()))\n",
        "        \n",
        "        \n",
        "def visualize(x_train, y_train, model):\n",
        "    # A convenience function for visualizing predictions given by the model\n",
        "\n",
        "    predicted = model(Variable(torch.from_numpy(x_train))).data.numpy()\n",
        "    order = np.argsort(x_train, axis = 0)\n",
        "    plt.plot(x_train[order].flatten(), y_train[order].flatten(), 'ro', label='Original data')\n",
        "    plt.plot(x_train[order].flatten(), predicted[order].flatten(), label='Fitted line')\n",
        "    plt.legend()\n",
        "    plt.show()"
      ],
      "execution_count": 0,
      "outputs": []
    },
    {
      "cell_type": "code",
      "metadata": {
        "id": "SSgd9mTeTrVt",
        "colab_type": "code",
        "colab": {
          "base_uri": "https://localhost:8080/",
          "height": 187
        },
        "outputId": "52783673-ed00-454f-bc81-fc5c93a27e16"
      },
      "source": [
        "# Training and visualizing predictions made by linear regression model\n",
        "optimizer = torch.optim.SGD(model.parameters(), lr=1e-3)\n",
        "\n",
        "train_SGD(row = train.row.astype('int64'),\n",
        "      col = train.col.astype('int64'),\n",
        "      ratings = train.data,\n",
        "      model = model,\n",
        "      lossfunc = mselossfunc, \n",
        "      optimizer = optimizer,\n",
        "      num_epoch = 100)\n",
        "#visualize(x_train, y_train, model)"
      ],
      "execution_count": 50,
      "outputs": [
        {
          "output_type": "stream",
          "text": [
            "Epoch [1/100], Loss: 3.5899\n",
            "Epoch [11/100], Loss: 3.5892\n",
            "Epoch [21/100], Loss: 3.5886\n",
            "Epoch [31/100], Loss: 3.5880\n",
            "Epoch [41/100], Loss: 3.5874\n",
            "Epoch [51/100], Loss: 3.5867\n",
            "Epoch [61/100], Loss: 3.5861\n",
            "Epoch [71/100], Loss: 3.5855\n",
            "Epoch [81/100], Loss: 3.5849\n",
            "Epoch [91/100], Loss: 3.5843\n"
          ],
          "name": "stdout"
        }
      ]
    }
  ]
}