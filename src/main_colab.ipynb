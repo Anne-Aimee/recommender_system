{
  "nbformat": 4,
  "nbformat_minor": 0,
  "metadata": {
    "kernelspec": {
      "display_name": "Python 3",
      "language": "python",
      "name": "python3"
    },
    "language_info": {
      "codemirror_mode": {
        "name": "ipython",
        "version": 3
      },
      "file_extension": ".py",
      "mimetype": "text/x-python",
      "name": "python",
      "nbconvert_exporter": "python",
      "pygments_lexer": "ipython3",
      "version": "3.7.1"
    },
    "colab": {
      "name": "test.ipynb",
      "provenance": []
    }
  },
  "cells": [
    {
      "cell_type": "code",
      "metadata": {
        "id": "n2sEKhjFbSYJ",
        "colab_type": "code",
        "colab": {}
      },
      "source": [
        "# Useful starting lines\n",
        "%matplotlib inline\n",
        "import numpy as np\n",
        "import matplotlib.pyplot as plt\n",
        "import torch\n",
        "import torch.nn as nn\n",
        "from torch.autograd import Variable\n",
        "\n",
        "import matplotlib as mpl\n",
        "import scipy\n",
        "import scipy.io\n",
        "import scipy.sparse as sp\n",
        "from scipy.sparse.linalg import spsolve\n",
        "\n",
        "from scipy import stats # to fit linear regression\n",
        "from math import sqrt\n",
        "\n",
        "%load_ext autoreload\n",
        "%autoreload 2"
      ],
      "execution_count": 0,
      "outputs": []
    },
    {
      "cell_type": "code",
      "metadata": {
        "id": "SM2ry60KrvBZ",
        "colab_type": "code",
        "colab": {}
      },
      "source": [
        "\"\"\" The url must be set each time the data gets loaded from the data_train.csv file:\n",
        "      Step 1 : Go to the github repository and click on the file (https://github.com/Anne-Aimee/recommender_system/blob/master/Datasets/data_train.csv)\n",
        "      Step 2 : Click 'View Raw' and copy the url into the designated space below\n",
        "\"\"\"\n",
        "url = 'https://raw.githubusercontent.com/Anne-Aimee/recommender_system/master/Datasets/data_train.csv?token=AHXTIEKECOCX252SIAF7II255Z5B2'\n"
      ],
      "execution_count": 0,
      "outputs": []
    },
    {
      "cell_type": "code",
      "metadata": {
        "id": "IkoUwVp_t_QA",
        "colab_type": "code",
        "colab": {}
      },
      "source": [
        "# Load the ratings and convert it to a sparse matrix in coo format\n",
        "df = pd.read_csv(url)\n",
        "df['r'],df['c'] = df['Id'].str.split('_').str # Separate Id into r and c\n",
        "df['r'] = df['r'].str.lstrip('r')\n",
        "df['c'] = df['c'].str.lstrip('c')\n",
        "row = df['c'].to_numpy().astype(int)\n",
        "col = df['r'].to_numpy().astype(int)\n",
        "data = df['Prediction'].to_numpy().astype(int)\n",
        "ratings = sp.coo_matrix((data, (row-1, col-1)), shape=((row.max(), col.max())))\n",
        "print(\"number of items : {}, number of ratings : {}\".format(ratings.shape))"
      ],
      "execution_count": 0,
      "outputs": []
    }
  ]
}